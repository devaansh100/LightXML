{
  "nbformat": 4,
  "nbformat_minor": 0,
  "metadata": {
    "colab": {
      "name": "LightXML.ipynb",
      "provenance": [],
      "collapsed_sections": []
    },
    "kernelspec": {
      "name": "python3",
      "display_name": "Python 3"
    },
    "language_info": {
      "name": "python"
    },
    "accelerator": "GPU"
  },
  "cells": [
    {
      "cell_type": "code",
      "metadata": {
        "id": "twlXkJS5YA9r"
      },
      "source": [
        "!nvidia-smi"
      ],
      "execution_count": null,
      "outputs": []
    },
    {
      "cell_type": "markdown",
      "metadata": {
        "id": "03bM381ZeXYB"
      },
      "source": [
        "Drive of f20190187@pilani.bits-pilani.ac.in is being mounted. "
      ]
    },
    {
      "cell_type": "code",
      "metadata": {
        "id": "GQR1KAVcN1ZX"
      },
      "source": [
        "from google.colab import drive\n",
        "drive.mount('/content/drive', force_remount = True)"
      ],
      "execution_count": null,
      "outputs": []
    },
    {
      "cell_type": "code",
      "metadata": {
        "id": "BwmWyMp1T9rd"
      },
      "source": [
        "! git clone https://github.com/devaansh100/LightXML.git\n",
        "% cd LightXML\n",
        "! git clone https://github.com/NVIDIA/apex\n",
        "# ! git checkout loss_correction\n",
        "% cd apex\n",
        "! python setup.py install\n",
        "% cd ..\n",
        "! pip install transformers"
      ],
      "execution_count": null,
      "outputs": []
    },
    {
      "cell_type": "code",
      "metadata": {
        "id": "gmHBcZ02Sjvy"
      },
      "source": [
        "!tar -xvzf ../drive/MyDrive/Wiki10-31K.tar.gz\n",
        "!mkdir data/Wiki10-31K\n",
        "!mv Wiki10-31K/* data/Wiki10-31K\n",
        "!rmdir Wiki10-31K"
      ],
      "execution_count": null,
      "outputs": []
    },
    {
      "cell_type": "code",
      "metadata": {
        "id": "k3-ARHVnTxz3"
      },
      "source": [
        "# ! ./run.sh eurlex4k 1 model-eurlex4k # For loading from checkpoint\n",
        "# ! ./run.sh eurlex4k # For starting from scratch\n",
        "! ./run.sh wiki31k"
      ],
      "execution_count": null,
      "outputs": []
    },
    {
      "cell_type": "markdown",
      "metadata": {
        "id": "hbzt5tGYeCw7"
      },
      "source": [
        "To be used after running tests on LightXML code. It would allow you to revert back to the source code, ie, without the aforementioned tests."
      ]
    },
    {
      "cell_type": "code",
      "metadata": {
        "id": "Xi3V_8G-UB48"
      },
      "source": [
        "% cd ..\n",
        "!rm -r LightXML"
      ],
      "execution_count": null,
      "outputs": []
    }
  ]
}